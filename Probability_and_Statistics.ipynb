{
 "cells": [
  {
   "cell_type": "markdown",
   "id": "f08f9af3-02a2-429c-b93c-07d36466b875",
   "metadata": {},
   "source": [
    "# Introducción a la probabilidad y Estadística"
   ]
  },
  {
   "cell_type": "markdown",
   "id": "cc7de929-f5d8-4cdd-a342-f6aba28fb06b",
   "metadata": {},
   "source": [
    "### a) Distribución uniforme"
   ]
  },
  {
   "cell_type": "code",
   "execution_count": 1,
   "id": "aafc9601-a513-4391-8367-c09e294bd50d",
   "metadata": {},
   "outputs": [],
   "source": [
    "# Importamos\n",
    "from scipy.stats import uniform"
   ]
  },
  {
   "cell_type": "code",
   "execution_count": 4,
   "id": "dee0e634-e4e8-40d3-924b-8a4e3c42be7c",
   "metadata": {},
   "outputs": [],
   "source": [
    "# Generamos una muestra aleatoria con un valor mínimo de 1, máximo de 100 y tamaño de 20000\n",
    "df_uniform = uniform.rvs(loc=1, scale=100, size=20000)"
   ]
  },
  {
   "cell_type": "code",
   "execution_count": 5,
   "id": "28498c18-c8f4-4b63-aace-9a56e70b063e",
   "metadata": {},
   "outputs": [
    {
     "name": "stderr",
     "output_type": "stream",
     "text": [
      "C:\\Users\\34610\\anaconda3\\Lib\\site-packages\\seaborn\\_oldcore.py:1119: FutureWarning: use_inf_as_na option is deprecated and will be removed in a future version. Convert inf values to NaN before operating instead.\n",
      "  with pd.option_context('mode.use_inf_as_na', True):\n"
     ]
    },
    {
     "data": {
      "text/plain": [
       "[Text(0.5, 0, 'Uniform Distribution'), Text(0, 0.5, 'Frequency')]"
      ]
     },
     "execution_count": 5,
     "metadata": {},
     "output_type": "execute_result"
    },
    {
     "data": {
      "image/png": "[encoded data removed]",
      "text/plain": [
       "<Figure size 640x480 with 1 Axes>"
      ]
     },
     "metadata": {},
     "output_type": "display_data"
    }
   ],
   "source": [
    "# Comprobamos la distribución que se ha generado\n",
    "import seaborn as sns\n",
    "\n",
    "ax=sns.histplot(data=df_uniform,\n",
    "                kde=False,\n",
    "                color='skyblue',\n",
    "                line_kws={\"linewidth\": 15, 'alpha':1})\n",
    "\n",
    "ax.set(xlabel='Uniform Distribution', ylabel='Frequency')"
   ]
  },
  {
   "cell_type": "markdown",
   "id": "eb3d2637-852e-446e-94d8-1e79f4d8d3cb",
   "metadata": {},
   "source": [
    "Ahora comprobamos la probabilidad de obtener un valor próximo al que indicamos. Para ello utilizaremos la **Función de Densidad de Probabilidad** mediante el método `pdf`"
   ]
  },
  {
   "cell_type": "code",
   "execution_count": 9,
   "id": "9345bda6-af56-4216-b7ba-51c36c09b26c",
   "metadata": {},
   "outputs": [
    {
     "data": {
      "text/plain": [
       "0.01"
      ]
     },
     "execution_count": 9,
     "metadata": {},
     "output_type": "execute_result"
    }
   ],
   "source": [
    "uniform.pdf(20, loc=0, scale=100)"
   ]
  },
  {
   "cell_type": "markdown",
   "id": "4b6191ad-e6e9-4591-9560-25ef20cfea48",
   "metadata": {},
   "source": [
    "Para comprobar la probabilidad de obtener un valor menor o igual que al indicado utilizamos la **Función de Probabilidad Acumulada** mediante el método `cdf`"
   ]
  },
  {
   "cell_type": "code",
   "execution_count": 13,
   "id": "64057c5d-aeb7-46b4-8f1a-4220334cd41b",
   "metadata": {},
   "outputs": [
    {
     "data": {
      "text/plain": [
       "0.8"
      ]
     },
     "execution_count": 13,
     "metadata": {},
     "output_type": "execute_result"
    }
   ],
   "source": [
    "uniform.cdf(80, loc=0, scale=100)"
   ]
  },
  {
   "cell_type": "markdown",
   "id": "3a102057-36e1-4398-bad0-7851e2ca4023",
   "metadata": {},
   "source": [
    "Para comprobar la probabilidad de obtener un valor mayor al indicado solo ha que restar 1"
   ]
  },
  {
   "cell_type": "code",
   "execution_count": 21,
   "id": "5737089e-68bb-49ad-9c37-690ac31ecc83",
   "metadata": {},
   "outputs": [
    {
     "data": {
      "text/plain": [
       "0.19999999999999996"
      ]
     },
     "execution_count": 21,
     "metadata": {},
     "output_type": "execute_result"
    }
   ],
   "source": [
    "1 - uniform.cdf(80, loc=0, scale=100)"
   ]
  },
  {
   "cell_type": "markdown",
   "id": "12d9e054-9399-4f7b-bd19-05836065b514",
   "metadata": {},
   "source": [
    "Ahora vamos a comprobar la probabilidad de que el valor se encuentre en un intervalo"
   ]
  },
  {
   "cell_type": "code",
   "execution_count": 23,
   "id": "a70eb0f0-e3af-40ea-92c2-5460e4ab3ebd",
   "metadata": {},
   "outputs": [
    {
     "data": {
      "text/plain": [
       "0.10000000000000009"
      ]
     },
     "execution_count": 23,
     "metadata": {},
     "output_type": "execute_result"
    }
   ],
   "source": [
    "uniform.cdf(80, loc=0, scale=100) - uniform.cdf(70, loc=0, scale=100)"
   ]
  },
  {
   "cell_type": "markdown",
   "id": "f097bd5b-3d8c-46db-8dfe-a535fdf5b8d9",
   "metadata": {},
   "source": [
    "Para conocer en qué percentil se encuentra nuesto valor indicado utilizamos **Percentt Point Function** mediante el método `ppf`"
   ]
  },
  {
   "cell_type": "code",
   "execution_count": 25,
   "id": "c278c64a-4d5a-4c89-9255-6030071f6521",
   "metadata": {},
   "outputs": [
    {
     "data": {
      "text/plain": [
       "75.0"
      ]
     },
     "execution_count": 25,
     "metadata": {},
     "output_type": "execute_result"
    }
   ],
   "source": [
    "uniform.ppf(0.75, loc=0, scale=100)"
   ]
  },
  {
   "cell_type": "markdown",
   "id": "711919b8-ea82-4b0b-9a3b-dd6ed55b4394",
   "metadata": {},
   "source": [
    "Esto nos sirve para definir los intervalos de confianza. Comprobamos un intervalo de confianza que contenga el 90% de los valores. Para ello debemos identificar los percentiles 5% y 90%"
   ]
  },
  {
   "cell_type": "code",
   "execution_count": 27,
   "id": "96849164-5ec0-43c9-aaba-a03e75ccc7c9",
   "metadata": {},
   "outputs": [
    {
     "data": {
      "text/plain": [
       "[5.0, 95.0]"
      ]
     },
     "execution_count": 27,
     "metadata": {},
     "output_type": "execute_result"
    }
   ],
   "source": [
    "[uniform.ppf(0.05, loc=0, scale=100), uniform.ppf(0.95, loc=0, scale=100)]"
   ]
  },
  {
   "cell_type": "markdown",
   "id": "c76c654a-80e4-4ad3-b641-fded49a5fa76",
   "metadata": {},
   "source": [
    "### b) Distribución de Bernoulli"
   ]
  },
  {
   "cell_type": "markdown",
   "id": "f7c70ed2-1686-4b80-8484-adce9da74b69",
   "metadata": {},
   "source": [
    "\n",
    "La distribución de Bernoulli es un modelo de probabilidad discreta que describe un experimento con dos resultados posibles: éxito (generalmente denotado como 1) o fracaso (generalmente denotado como 0)."
   ]
  },
  {
   "cell_type": "code",
   "execution_count": 28,
   "id": "fadc0332-bfe2-498c-93f8-747a2b2070d6",
   "metadata": {},
   "outputs": [],
   "source": [
    "# Importamos\n",
    "from scipy.stats import bernoulli"
   ]
  },
  {
   "cell_type": "code",
   "execution_count": 29,
   "id": "890ff3ea-71c9-456d-9375-6d5c1dfdecec",
   "metadata": {},
   "outputs": [],
   "source": [
    "# Generamos una muestra aleatoria con una probabilidad de éxito del 20% y tamaño de 20000\n",
    "df_bernoulli=bernoulli.rvs(p=0.2, loc=0, size=20000)"
   ]
  },
  {
   "cell_type": "code",
   "execution_count": 30,
   "id": "b349d82a-52f1-4728-87a9-696acd060f6b",
   "metadata": {},
   "outputs": [
    {
     "name": "stderr",
     "output_type": "stream",
     "text": [
      "C:\\Users\\34610\\anaconda3\\Lib\\site-packages\\seaborn\\_oldcore.py:1119: FutureWarning: use_inf_as_na option is deprecated and will be removed in a future version. Convert inf values to NaN before operating instead.\n",
      "  with pd.option_context('mode.use_inf_as_na', True):\n"
     ]
    },
    {
     "data": {
      "text/plain": [
       "[Text(0.5, 0, 'Bernoulli Distribution'), Text(0, 0.5, 'Frequency')]"
      ]
     },
     "execution_count": 30,
     "metadata": {},
     "output_type": "execute_result"
    },
    {
     "data": {
      "image/png": "[encoded data removed]",
      "text/plain": [
       "<Figure size 640x480 with 1 Axes>"
      ]
     },
     "metadata": {},
     "output_type": "display_data"
    }
   ],
   "source": [
    "# Comprobamos la distribución\n",
    "import seaborn as sns\n",
    "\n",
    "ax=sns.histplot(data=df_bernoulli,\n",
    "                kde=False,\n",
    "                color='skyblue',\n",
    "                line_kws={\"linewidth\": 15, 'alpha':1})\n",
    "\n",
    "ax.set(xlabel='Bernoulli Distribution', ylabel='Frequency')"
   ]
  },
  {
   "cell_type": "markdown",
   "id": "119ce60a-483c-4ab9-afd1-5d1d376cfffe",
   "metadata": {},
   "source": [
    "Al encontrarnos en una probabilidad discreta podemos utilizar la **Función de Masa de Probabilidad** mediante `pmf`"
   ]
  },
  {
   "cell_type": "code",
   "execution_count": 39,
   "id": "e734b0ca-6aa2-45d3-b69c-7a77356fab1e",
   "metadata": {},
   "outputs": [
    {
     "data": {
      "text/plain": [
       "0.2"
      ]
     },
     "execution_count": 39,
     "metadata": {},
     "output_type": "execute_result"
    }
   ],
   "source": [
    "# Probabilidad de éxito \n",
    "bernoulli.pmf(1, p=0.2, loc=0)"
   ]
  },
  {
   "cell_type": "markdown",
   "id": "5cf19428-ce85-40e9-8f79-3c64c122061e",
   "metadata": {},
   "source": [
    "Para obtener la probabilidad de fracaso utilizamos la **Función de Porbabilidad Acumulada** `cdf`"
   ]
  },
  {
   "cell_type": "code",
   "execution_count": 41,
   "id": "c987ea76-42a4-4475-a329-984ee20e3bb8",
   "metadata": {},
   "outputs": [
    {
     "data": {
      "text/plain": [
       "0.8"
      ]
     },
     "execution_count": 41,
     "metadata": {},
     "output_type": "execute_result"
    }
   ],
   "source": [
    "# Probabilidad de fracaso \n",
    "bernoulli.cdf(0, p=0.2, loc=0)"
   ]
  }
 ],
 "metadata": {
  "kernelspec": {
   "display_name": "Python 3 (ipykernel)",
   "language": "python",
   "name": "python3"
  },
  "language_info": {
   "codemirror_mode": {
    "name": "ipython",
    "version": 3
   },
   "file_extension": ".py",
   "mimetype": "text/x-python",
   "name": "python",
   "nbconvert_exporter": "python",
   "pygments_lexer": "ipython3",
   "version": "3.11.5"
  }
 },
 "nbformat": 4,
 "nbformat_minor": 5
}
